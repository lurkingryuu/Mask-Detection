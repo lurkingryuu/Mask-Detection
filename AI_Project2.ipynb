{
 "cells": [
  {
   "cell_type": "code",
   "execution_count": 1,
   "metadata": {},
   "outputs": [],
   "source": [
    "import tensorflow as tf\n",
    "from keras.models import Sequential\n",
    "from keras.layers import Conv2D, MaxPooling2D, Dropout, Flatten, Dense\n",
    "from tensorflow.keras.preprocessing.image import ImageDataGenerator\n",
    "import numpy as np \n",
    "import matplotlib.pyplot as plt "
   ]
  },
  {
   "cell_type": "code",
   "execution_count": 2,
   "metadata": {},
   "outputs": [
    {
     "name": "stdout",
     "output_type": "stream",
     "text": [
      "Found 600 images belonging to 2 classes.\n",
      "Found 100 images belonging to 2 classes.\n",
      "Found 306 images belonging to 2 classes.\n"
     ]
    }
   ],
   "source": [
    "train_datagen = ImageDataGenerator(rescale=1./255, zoom_range=0.2, rotation_range=40, horizontal_flip=True)\n",
    "test_datagen = ImageDataGenerator(rescale=1./255)\n",
    "validation_datagen = ImageDataGenerator(rescale=1./255)\n",
    "\n",
    "train_generator = train_datagen.flow_from_directory('Dataset\\\\Train', target_size = (150,150), batch_size = 32, class_mode = 'binary')\n",
    "test_generator = test_datagen.flow_from_directory('Dataset\\\\Test', target_size = (150,150), batch_size = 32, class_mode = 'binary')\n",
    "valid_generator = validation_datagen.flow_from_directory('Dataset\\\\Validation', target_size = (150,150), batch_size = 32, class_mode = 'binary')"
   ]
  },
  {
   "cell_type": "code",
   "execution_count": 3,
   "metadata": {},
   "outputs": [
    {
     "data": {
      "text/plain": [
       "{'Mask': 0, 'Non Mask': 1}"
      ]
     },
     "execution_count": 3,
     "metadata": {},
     "output_type": "execute_result"
    }
   ],
   "source": [
    "input_shape = train_generator.image_shape\n",
    "train_generator.class_indices\n"
   ]
  },
  {
   "cell_type": "code",
   "execution_count": 4,
   "metadata": {},
   "outputs": [],
   "source": [
    "model = Sequential()\n",
    "model.add(Conv2D(32, (3,3), padding= 'SAME', activation= tf.nn.relu, input_shape = input_shape))\n",
    "model.add(MaxPooling2D(pool_size=(2,2)))\n",
    "model.add(Dropout(0.5))\n",
    "\n",
    "model.add(Conv2D(64, (3,3), padding= 'SAME', activation= tf.nn.relu))\n",
    "model.add(MaxPooling2D(pool_size=(2,2)))\n",
    "model.add(Dropout(0.5))\n",
    "\n",
    "model.add(Flatten())\n",
    "\n",
    "model.add(Dense(256, activation = tf.nn.relu))\n",
    "model.add(Dropout(0.5))\n",
    "model.add(Dense(1, activation='sigmoid'))\n",
    "# model.summary()"
   ]
  },
  {
   "cell_type": "code",
   "execution_count": 5,
   "metadata": {},
   "outputs": [],
   "source": [
    "model.compile(optimizer='adam', loss='binary_crossentropy', metrics=['accuracy'])"
   ]
  },
  {
   "cell_type": "code",
   "execution_count": 6,
   "metadata": {},
   "outputs": [
    {
     "name": "stdout",
     "output_type": "stream",
     "text": [
      "Epoch 1/30\n",
      "19/19 [==============================] - 17s 900ms/step - loss: 4.8363 - accuracy: 0.4917 - val_loss: 0.6929 - val_accuracy: 0.5000\n",
      "Epoch 2/30\n",
      "19/19 [==============================] - 13s 696ms/step - loss: 0.6212 - accuracy: 0.6317 - val_loss: 0.6322 - val_accuracy: 0.7059\n",
      "Epoch 3/30\n",
      "19/19 [==============================] - 13s 693ms/step - loss: 0.4297 - accuracy: 0.8233 - val_loss: 0.4667 - val_accuracy: 0.8170\n",
      "Epoch 4/30\n",
      "19/19 [==============================] - 13s 695ms/step - loss: 0.3871 - accuracy: 0.8650 - val_loss: 0.4496 - val_accuracy: 0.8105\n",
      "Epoch 5/30\n",
      "19/19 [==============================] - 13s 683ms/step - loss: 0.3031 - accuracy: 0.9017 - val_loss: 0.4369 - val_accuracy: 0.8203\n",
      "Epoch 6/30\n",
      "19/19 [==============================] - 13s 683ms/step - loss: 0.2882 - accuracy: 0.9000 - val_loss: 0.3207 - val_accuracy: 0.8725\n",
      "Epoch 7/30\n",
      "19/19 [==============================] - 13s 689ms/step - loss: 0.2997 - accuracy: 0.8917 - val_loss: 0.2487 - val_accuracy: 0.8954\n",
      "Epoch 8/30\n",
      "19/19 [==============================] - 13s 689ms/step - loss: 0.2657 - accuracy: 0.9017 - val_loss: 0.3923 - val_accuracy: 0.8431\n",
      "Epoch 9/30\n",
      "19/19 [==============================] - 13s 692ms/step - loss: 0.2480 - accuracy: 0.9017 - val_loss: 0.3230 - val_accuracy: 0.8660\n",
      "Epoch 10/30\n",
      "19/19 [==============================] - 13s 685ms/step - loss: 0.2454 - accuracy: 0.9083 - val_loss: 0.2733 - val_accuracy: 0.8922\n",
      "Epoch 11/30\n",
      "19/19 [==============================] - 13s 678ms/step - loss: 0.2371 - accuracy: 0.9117 - val_loss: 0.2451 - val_accuracy: 0.9052\n",
      "Epoch 12/30\n",
      "19/19 [==============================] - 13s 695ms/step - loss: 0.2461 - accuracy: 0.9100 - val_loss: 0.4287 - val_accuracy: 0.8203\n",
      "Epoch 13/30\n",
      "19/19 [==============================] - 13s 687ms/step - loss: 0.2610 - accuracy: 0.9000 - val_loss: 0.2714 - val_accuracy: 0.8954\n",
      "Epoch 14/30\n",
      "19/19 [==============================] - 13s 682ms/step - loss: 0.2240 - accuracy: 0.9133 - val_loss: 0.2663 - val_accuracy: 0.9052\n",
      "Epoch 15/30\n",
      "19/19 [==============================] - 13s 668ms/step - loss: 0.2143 - accuracy: 0.9300 - val_loss: 0.2891 - val_accuracy: 0.8922\n",
      "Epoch 16/30\n",
      "19/19 [==============================] - 12s 658ms/step - loss: 0.1922 - accuracy: 0.9267 - val_loss: 0.3443 - val_accuracy: 0.8824\n",
      "Epoch 17/30\n",
      "19/19 [==============================] - 13s 677ms/step - loss: 0.1819 - accuracy: 0.9333 - val_loss: 0.3632 - val_accuracy: 0.8824\n",
      "Epoch 18/30\n",
      "19/19 [==============================] - 13s 684ms/step - loss: 0.2341 - accuracy: 0.8967 - val_loss: 0.2616 - val_accuracy: 0.9052\n",
      "Epoch 19/30\n",
      "19/19 [==============================] - 12s 658ms/step - loss: 0.1962 - accuracy: 0.9200 - val_loss: 0.2112 - val_accuracy: 0.9183\n",
      "Epoch 20/30\n",
      "19/19 [==============================] - 13s 686ms/step - loss: 0.2057 - accuracy: 0.9200 - val_loss: 0.2863 - val_accuracy: 0.8954\n",
      "Epoch 21/30\n",
      "19/19 [==============================] - 14s 730ms/step - loss: 0.1975 - accuracy: 0.9200 - val_loss: 0.3802 - val_accuracy: 0.8529\n",
      "Epoch 22/30\n",
      "19/19 [==============================] - 13s 666ms/step - loss: 0.2338 - accuracy: 0.9083 - val_loss: 0.3060 - val_accuracy: 0.8889\n",
      "Epoch 23/30\n",
      "19/19 [==============================] - 12s 656ms/step - loss: 0.1926 - accuracy: 0.9250 - val_loss: 0.2749 - val_accuracy: 0.8954\n",
      "Epoch 24/30\n",
      "19/19 [==============================] - 12s 630ms/step - loss: 0.1974 - accuracy: 0.9333 - val_loss: 0.2384 - val_accuracy: 0.9150\n",
      "Epoch 25/30\n",
      "19/19 [==============================] - 12s 652ms/step - loss: 0.1920 - accuracy: 0.9300 - val_loss: 0.2632 - val_accuracy: 0.9052\n",
      "Epoch 26/30\n",
      "19/19 [==============================] - 13s 661ms/step - loss: 0.1998 - accuracy: 0.9283 - val_loss: 0.3304 - val_accuracy: 0.8954\n",
      "Epoch 27/30\n",
      "19/19 [==============================] - 12s 653ms/step - loss: 0.1856 - accuracy: 0.9317 - val_loss: 0.2885 - val_accuracy: 0.9085\n",
      "Epoch 28/30\n",
      "19/19 [==============================] - 12s 647ms/step - loss: 0.1849 - accuracy: 0.9350 - val_loss: 0.2410 - val_accuracy: 0.9150\n",
      "Epoch 29/30\n",
      "19/19 [==============================] - 12s 631ms/step - loss: 0.1996 - accuracy: 0.9217 - val_loss: 0.3524 - val_accuracy: 0.8954\n",
      "Epoch 30/30\n",
      "19/19 [==============================] - 12s 640ms/step - loss: 0.1746 - accuracy: 0.9367 - val_loss: 0.2647 - val_accuracy: 0.9085\n"
     ]
    }
   ],
   "source": [
    "history = model.fit(train_generator, epochs=30, validation_data=valid_generator)"
   ]
  },
  {
   "cell_type": "code",
   "execution_count": 7,
   "metadata": {},
   "outputs": [
    {
     "name": "stdout",
     "output_type": "stream",
     "text": [
      "4/4 [==============================] - 1s 234ms/step - loss: 0.2060 - accuracy: 0.8900\n",
      "Test Accuracy: 0.8899999856948853, Test Loss: 0.20601673424243927\n"
     ]
    }
   ],
   "source": [
    "test_loss , test_acc = model.evaluate(test_generator)\n",
    "print(f'Test Accuracy: {test_acc}, Test Loss: {test_loss}')\n"
   ]
  },
  {
   "cell_type": "code",
   "execution_count": 8,
   "metadata": {},
   "outputs": [],
   "source": [
    "model.save('mask_model2.h5')"
   ]
  }
 ],
 "metadata": {
  "interpreter": {
   "hash": "afaf9fb242b90ab5c175d700b0df5d6815483b980d75db5983f3b3394ffc53ea"
  },
  "kernelspec": {
   "display_name": "Python 3.10.3 ('env': venv)",
   "language": "python",
   "name": "python3"
  },
  "language_info": {
   "codemirror_mode": {
    "name": "ipython",
    "version": 3
   },
   "file_extension": ".py",
   "mimetype": "text/x-python",
   "name": "python",
   "nbconvert_exporter": "python",
   "pygments_lexer": "ipython3",
   "version": "3.10.3"
  },
  "orig_nbformat": 4
 },
 "nbformat": 4,
 "nbformat_minor": 2
}
